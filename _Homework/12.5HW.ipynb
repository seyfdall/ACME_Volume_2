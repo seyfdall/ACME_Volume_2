{
 "cells": [
  {
   "cell_type": "code",
   "execution_count": 4,
   "metadata": {},
   "outputs": [],
   "source": [
    "import numpy as np\n",
    "from numpy.linalg import inv, norm  "
   ]
  },
  {
   "cell_type": "code",
   "execution_count": 5,
   "metadata": {},
   "outputs": [],
   "source": [
    "def BFGS(f, df, x0, A0, max_iter=40, tol=1e-8):\n",
    "    \"\"\"Minimize f using BFGS, given the derivative df, an\n",
    "    initial guess x0, and an initial approx A0 of D^2f(x0)\n",
    "    \"\"\"\n",
    "\n",
    "    # Initialize\n",
    "    done = False\n",
    "    iters = 0       # Count the number of iterations\n",
    "    A_inv = inv(A0) # Initial approximate inverse Hessian\n",
    "    x = x0 - A_inv @ df(x0)     # x_1\n",
    "    s = x - x0                  # s_1\n",
    "\n",
    "    while not done: # Main BFGS Loop\n",
    "        y = df(x) - df(x0)      # Update y\n",
    "        sy = s @ y      # This product is used serveral times\n",
    "        Ay = A_inv @ y  # This product is used several times\n",
    "        # Approximate the new inverse Hessian\n",
    "        A_inv = (A_inv + ((sy + y @ Ay)/sy**2) * np.outer(s,s)\n",
    "                    - (np.outer(Ay, s) + np.outer(s,Ay))/sy)\n",
    "\n",
    "        x0 = x\n",
    "        x = x0 - A_inv @ df(x0)     # Update x\n",
    "        s = x - x0                  # Update s\n",
    "        iters += 1\n",
    "        # Stopping criteria\n",
    "        done = ((norm(s) < tol) or \n",
    "                (norm(df(x)) < tol) or\n",
    "                (np.abs(f(x) - f(x0)) < tol) or\n",
    "                (iters >= max_iter))\n",
    "    return x, iters"
   ]
  },
  {
   "cell_type": "code",
   "execution_count": 6,
   "metadata": {},
   "outputs": [
    {
     "name": "stdout",
     "output_type": "stream",
     "text": [
      "Iterations needed to get within 10^-5 is 5\n"
     ]
    }
   ],
   "source": [
    "# 12.30 Part 1\n",
    "# Apply your code to the function in Example 12.5.3 with an initial guess of x0 = (x0,y0) = (4,4) and A0 = D^2f(x0) ...\n",
    "# How many iterations does it take to get within 10^-5 of the true minimizer?\n",
    "\n",
    "x0 = np.array([4,4])\n",
    "A0 = np.array([[18, 0],[0, 2]])\n",
    "f = lambda x: x[0]**3 - 3*x[0]**2 + x[1]**2\n",
    "df = lambda x: np.array([3*x[0]**2 - 6*x[0], 2*x[1]])\n",
    "\n",
    "x, iters = BFGS(f, df, x0, A0, tol=1e-5)\n",
    "print(f\"Iterations needed to get within 10^-5 is {iters}\")"
   ]
  },
  {
   "cell_type": "code",
   "execution_count": 7,
   "metadata": {},
   "outputs": [
    {
     "name": "stdout",
     "output_type": "stream",
     "text": [
      "Iterations needed to get within 10^-5 is 13\n"
     ]
    }
   ],
   "source": [
    "# 12.30 Part 2\n",
    "# Repeat previous step with x0 = (4,4) and A0 = I\n",
    "\n",
    "x0 = np.array([4,4])\n",
    "A0 = np.array([[1, 0],[0, 1]])\n",
    "f = lambda x: x[0]**3 - 3*x[0]**2 + x[1]**2\n",
    "df = lambda x: np.array([3*x[0]**2 - 6*x[0], 2*x[1]])\n",
    "\n",
    "x, iters = BFGS(f, df, x0, A0, tol=1e-5)\n",
    "print(f\"Iterations needed to get within 10^-5 is {iters}\")"
   ]
  },
  {
   "cell_type": "code",
   "execution_count": 8,
   "metadata": {},
   "outputs": [
    {
     "name": "stdout",
     "output_type": "stream",
     "text": [
      "Iterations needed to get within 10^-5 is 7\n"
     ]
    }
   ],
   "source": [
    "# 12.30 Part 3\n",
    "\n",
    "x0 = np.array([10, 10])\n",
    "A0 = np.array([[54, 0],[0, 2]])\n",
    "f = lambda x: x[0]**3 - 3*x[0]**2 + x[1]**2\n",
    "df = lambda x: np.array([3*x[0]**2 - 6*x[0], 2*x[1]])\n",
    "\n",
    "x, iters = BFGS(f, df, x0, A0, tol=1e-5)\n",
    "print(f\"Iterations needed to get within 10^-5 is {iters}\")"
   ]
  },
  {
   "cell_type": "code",
   "execution_count": 9,
   "metadata": {},
   "outputs": [
    {
     "name": "stdout",
     "output_type": "stream",
     "text": [
      "Iterations needed to get within 10^-5 is 16\n"
     ]
    }
   ],
   "source": [
    "# 12.30 Part 4\n",
    "\n",
    "x0 = np.array([10, 10])\n",
    "A0 = np.array([[1, 0],[0, 1]])\n",
    "f = lambda x: x[0]**3 - 3*x[0]**2 + x[1]**2\n",
    "df = lambda x: np.array([3*x[0]**2 - 6*x[0], 2*x[1]])\n",
    "\n",
    "x, iters = BFGS(f, df, x0, A0, tol=1e-5)\n",
    "print(f\"Iterations needed to get within 10^-5 is {iters}\")"
   ]
  },
  {
   "attachments": {},
   "cell_type": "markdown",
   "metadata": {},
   "source": [
    "When x0 = (0,0) the sy for the first iteration is 0.0 which leads to a division by zero error."
   ]
  }
 ],
 "metadata": {
  "kernelspec": {
   "display_name": "Python 3",
   "language": "python",
   "name": "python3"
  },
  "language_info": {
   "codemirror_mode": {
    "name": "ipython",
    "version": 3
   },
   "file_extension": ".py",
   "mimetype": "text/x-python",
   "name": "python",
   "nbconvert_exporter": "python",
   "pygments_lexer": "ipython3",
   "version": "3.10.1"
  },
  "orig_nbformat": 4,
  "vscode": {
   "interpreter": {
    "hash": "cbab21992c47b562a4b852e3465b7ff6d1b28a23a1330284028ccb1aeb1c7387"
   }
  }
 },
 "nbformat": 4,
 "nbformat_minor": 2
}
