{
 "cells": [
  {
   "cell_type": "code",
   "execution_count": 2,
   "metadata": {},
   "outputs": [],
   "source": [
    "import numpy as np"
   ]
  },
  {
   "attachments": {},
   "cell_type": "markdown",
   "metadata": {},
   "source": [
    "# HW 17.2 Problems 9-10(i)"
   ]
  },
  {
   "cell_type": "code",
   "execution_count": 3,
   "metadata": {},
   "outputs": [],
   "source": [
    "\"\"\" \n",
    "    Problem 17.9\n",
    "    Code up a simulation of a single pull on an n-armed bandit system\n",
    "    Write a method call pull that takes the following input:\n",
    "        1) An array of n probabilities theta_1,..., theta_n corresponding \n",
    "            to the true probability of success for each arm\n",
    "        2) An array of payouts (J1,...,Jn) for each arm\n",
    "        3) An action i indicating that arm number i should be pulled\n",
    "    This should return the amount won and a pair (delt_a_i, delta_b_i) in {(1,0),(0,1)},\n",
    "    with (1,0) corresponding to a success of the ith arm (the one that was puled), and\n",
    "    (0,1) corresponding to a failure.\n",
    "\"\"\"\n",
    "\n",
    "def pull(thetas, payouts, action):\n",
    "    # Draw from a Bernoulli distribution 10000 times\n",
    "    u = np.random.binomial(1, thetas[action], 1)[0]\n",
    "\n",
    "    # Determine success and failure\n",
    "    a_i = 1 if u > 0 else 0\n",
    "    b_i = 1 if u < 1 else 0\n",
    "    return payouts[action] * u, (a_i, b_i)"
   ]
  },
  {
   "cell_type": "code",
   "execution_count": 36,
   "metadata": {},
   "outputs": [
    {
     "name": "stdout",
     "output_type": "stream",
     "text": [
      "(4, (1, 0))\n"
     ]
    }
   ],
   "source": [
    "# Test pull function\n",
    "thetas = [0.1, 0.2, 0.4, 0.3]\n",
    "payouts = [4, 3, 2, 1]\n",
    "action = 0\n",
    "\n",
    "print(pull(thetas, payouts, action))"
   ]
  },
  {
   "cell_type": "code",
   "execution_count": 18,
   "metadata": {},
   "outputs": [],
   "source": [
    "\"\"\" \n",
    "    Problem 17.10 (i)\n",
    "    Code up a solution to a general Bernoulli bandit process using the\n",
    "    Gittins index algorithm discussed in the text.\n",
    "        (i) Write a method compute_R that accepts as input an integer M and\n",
    "            floats r, B and returns an (M + 1) x ( M + 1) array R_values with\n",
    "            R_values[a,b] = R(a,b,r) for all a+b <= M (the remaining entries)\n",
    "            in the array can be set to zero).\n",
    "            (a) Initialize using the assumption of (17.10) for a+b=M\n",
    "            (b) Use the recursion (17.7) to find the other values for 1<=a+b<M\n",
    "            (c) Apply your code to the situation of Example 17.2.4 and compare results\n",
    "\"\"\"\n",
    "\n",
    "\n",
    "def compute_R(M, r, B):\n",
    "    # Initialize R_values with assumption (17.10)\n",
    "    R_values = np.zeros((M+1, M+1))\n",
    "    for i in range(M+1):\n",
    "        R_values[i, M-i] = 1 / (1 - B) * max(i / M, r)\n",
    "\n",
    "    # Double for loop through reverse super diagonals\n",
    "    for i in range(1, M)[::-1]:\n",
    "        for j in range(i+1):\n",
    "            # Use (17.7) to find the other values bottom-up\n",
    "            R_values[j, i-j] = max((j*(1+B*R_values[j+1,(i-j)]) + (i-j)*B*R_values[j,(i-j)+1]) / (j+(i-j)), r / (1 - B))\n",
    "    \n",
    "    return R_values\n"
   ]
  },
  {
   "cell_type": "code",
   "execution_count": 17,
   "metadata": {},
   "outputs": [
    {
     "name": "stdout",
     "output_type": "stream",
     "text": [
      "[[ 0.          3.5         3.5         3.5         3.5       ]\n",
      " [10.          5.27        3.93333333  3.5         0.        ]\n",
      " [10.          6.66666667  5.          0.          0.        ]\n",
      " [10.          7.5         0.          0.          0.        ]\n",
      " [10.          0.          0.          0.          0.        ]]\n"
     ]
    }
   ],
   "source": [
    "M = 4\n",
    "r = 0.35\n",
    "B = 0.9\n",
    "\n",
    "print(compute_R(M, r, B))"
   ]
  }
 ],
 "metadata": {
  "kernelspec": {
   "display_name": "base",
   "language": "python",
   "name": "python3"
  },
  "language_info": {
   "codemirror_mode": {
    "name": "ipython",
    "version": 3
   },
   "file_extension": ".py",
   "mimetype": "text/x-python",
   "name": "python",
   "nbconvert_exporter": "python",
   "pygments_lexer": "ipython3",
   "version": "3.9.15"
  },
  "orig_nbformat": 4
 },
 "nbformat": 4,
 "nbformat_minor": 2
}
