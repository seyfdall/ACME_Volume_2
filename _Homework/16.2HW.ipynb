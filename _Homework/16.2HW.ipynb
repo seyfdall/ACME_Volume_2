{
 "cells": [
  {
   "cell_type": "code",
   "execution_count": 1,
   "metadata": {},
   "outputs": [],
   "source": [
    "# Define the value iteration function for Exercise 16.10\n",
    "def value_iteration(T, u):\n",
    "\t# Define allowable actions for 1,...,9\n",
    "\tA = {\n",
    "\t\t1: [2, 4],\n",
    "\t\t2: [1, 3, 5],\n",
    "\t\t3: [2, 6],\n",
    "\t\t4: [1, 5, 7],\n",
    "\t\t5: [2, 4, 6, 8],\n",
    "\t\t6: [3, 5, 9],\n",
    "\t\t7: [4, 8],\n",
    "\t\t8: [5, 7, 9],\n",
    "\t\t9: []\n",
    "\t}\n",
    "\n",
    "\t# Use Bellman's Optimality Principle to find each table bottom up\n",
    "\ttable_old = [max([u[a] for a in A[s]]) if s != 9 else 0 for s in range(1, 10)]\n",
    "\n",
    "\t# Cycle to find the Tth table\n",
    "\tfor t in range(T):\n",
    "\t\ttable_new = [max([u[a] + table_old[a - 1] for a in A[s]]) if s != 9 else 0 for s in range(1, 10)]\n",
    "\t\ttable_old = table_new\n",
    "\n",
    "\treturn table_old"
   ]
  },
  {
   "cell_type": "code",
   "execution_count": 7,
   "metadata": {},
   "outputs": [
    {
     "name": "stdout",
     "output_type": "stream",
     "text": [
      "[-2.3, -3.0, -2, -3.0, -2, -1, -2, -1, 0]\n",
      "[-2.3, -3, -2, -3, -2, -1, -2, -1, 0]\n",
      "19 Iterations till Stabilization\n"
     ]
    }
   ],
   "source": [
    "T = 19\n",
    "u = {\n",
    "    1: -1, \n",
    "    2: 0.7,\n",
    "    3: -1,\n",
    "    4: -1,\n",
    "    5: -1,\n",
    "    6: -1,\n",
    "    7: -1,\n",
    "    8: -1,\n",
    "    9: -1\n",
    "}\n",
    "\n",
    "print(value_iteration(T, u))\n",
    "print(value_iteration(T+1, u))\n",
    "print(\"19 Iterations till Stabilization\")"
   ]
  }
 ],
 "metadata": {
  "kernelspec": {
   "display_name": "base",
   "language": "python",
   "name": "python3"
  },
  "language_info": {
   "codemirror_mode": {
    "name": "ipython",
    "version": 3
   },
   "file_extension": ".py",
   "mimetype": "text/x-python",
   "name": "python",
   "nbconvert_exporter": "python",
   "pygments_lexer": "ipython3",
   "version": "3.9.15"
  },
  "orig_nbformat": 4
 },
 "nbformat": 4,
 "nbformat_minor": 2
}
